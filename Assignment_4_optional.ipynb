{
 "cells": [
  {
   "cell_type": "code",
   "execution_count": 613,
   "id": "587cf03d",
   "metadata": {},
   "outputs": [],
   "source": [
    "import pandas as pd\n",
    "import numpy as np\n",
    "import matplotlib.pyplot as plt\n",
    "import string\n",
    "from sklearn.linear_model import LogisticRegression"
   ]
  },
  {
   "cell_type": "markdown",
   "id": "97389375",
   "metadata": {},
   "source": [
    "## Basic Overview\n",
    "This database is a collection of labeled tweets. For some reason at first it didn't have any column names assinged so I had to do it myself. It contains:\n",
    "- **id**: A unique identifier for a tweet.\n",
    "- **category**: From my understanding it's a subject that a particular tweet reffers to.\n",
    "- **type**: There are four types of messages: Positive, Negative, Irrelevant and Neutral. Author mentioned that messages that are not relevant to the category are regarded as Neutral (I decided that I won't make that distinction and I'll try to predict Irrelevant messages also).\n",
    "- **text**: A content of a tweet.\n",
    "\n",
    "Author gives this data in two files. The first is for training a model (74682 entries) and the second one is for testing (1000 entries). Unfortunately there isn't any information about how this data was labeled and upon further inspection I started to have doubts if labeling was executed right."
   ]
  },
  {
   "cell_type": "code",
   "execution_count": 614,
   "id": "1003c504",
   "metadata": {},
   "outputs": [],
   "source": [
    "test_df = pd.read_csv('twitter_validation.csv', header=None)\n",
    "train_df = pd.read_csv('twitter_training.csv', header=None)"
   ]
  },
  {
   "cell_type": "code",
   "execution_count": 615,
   "id": "64cefd36",
   "metadata": {},
   "outputs": [],
   "source": [
    "test_df.columns = ['id', 'category', 'type', 'text']"
   ]
  },
  {
   "cell_type": "code",
   "execution_count": 616,
   "id": "b0fabe2d",
   "metadata": {},
   "outputs": [
    {
     "data": {
      "text/html": [
       "<div>\n",
       "<style scoped>\n",
       "    .dataframe tbody tr th:only-of-type {\n",
       "        vertical-align: middle;\n",
       "    }\n",
       "\n",
       "    .dataframe tbody tr th {\n",
       "        vertical-align: top;\n",
       "    }\n",
       "\n",
       "    .dataframe thead th {\n",
       "        text-align: right;\n",
       "    }\n",
       "</style>\n",
       "<table border=\"1\" class=\"dataframe\">\n",
       "  <thead>\n",
       "    <tr style=\"text-align: right;\">\n",
       "      <th></th>\n",
       "      <th>id</th>\n",
       "      <th>category</th>\n",
       "      <th>type</th>\n",
       "      <th>text</th>\n",
       "    </tr>\n",
       "  </thead>\n",
       "  <tbody>\n",
       "    <tr>\n",
       "      <th>0</th>\n",
       "      <td>3364</td>\n",
       "      <td>Facebook</td>\n",
       "      <td>Irrelevant</td>\n",
       "      <td>I mentioned on Facebook that I was struggling ...</td>\n",
       "    </tr>\n",
       "    <tr>\n",
       "      <th>1</th>\n",
       "      <td>352</td>\n",
       "      <td>Amazon</td>\n",
       "      <td>Neutral</td>\n",
       "      <td>BBC News - Amazon boss Jeff Bezos rejects clai...</td>\n",
       "    </tr>\n",
       "    <tr>\n",
       "      <th>2</th>\n",
       "      <td>8312</td>\n",
       "      <td>Microsoft</td>\n",
       "      <td>Negative</td>\n",
       "      <td>@Microsoft Why do I pay for WORD when it funct...</td>\n",
       "    </tr>\n",
       "    <tr>\n",
       "      <th>3</th>\n",
       "      <td>4371</td>\n",
       "      <td>CS-GO</td>\n",
       "      <td>Negative</td>\n",
       "      <td>CSGO matchmaking is so full of closet hacking,...</td>\n",
       "    </tr>\n",
       "    <tr>\n",
       "      <th>4</th>\n",
       "      <td>4433</td>\n",
       "      <td>Google</td>\n",
       "      <td>Neutral</td>\n",
       "      <td>Now the President is slapping Americans in the...</td>\n",
       "    </tr>\n",
       "  </tbody>\n",
       "</table>\n",
       "</div>"
      ],
      "text/plain": [
       "     id   category        type  \\\n",
       "0  3364   Facebook  Irrelevant   \n",
       "1   352     Amazon     Neutral   \n",
       "2  8312  Microsoft    Negative   \n",
       "3  4371      CS-GO    Negative   \n",
       "4  4433     Google     Neutral   \n",
       "\n",
       "                                                text  \n",
       "0  I mentioned on Facebook that I was struggling ...  \n",
       "1  BBC News - Amazon boss Jeff Bezos rejects clai...  \n",
       "2  @Microsoft Why do I pay for WORD when it funct...  \n",
       "3  CSGO matchmaking is so full of closet hacking,...  \n",
       "4  Now the President is slapping Americans in the...  "
      ]
     },
     "execution_count": 616,
     "metadata": {},
     "output_type": "execute_result"
    }
   ],
   "source": [
    "test_df.head()"
   ]
  },
  {
   "cell_type": "code",
   "execution_count": 617,
   "id": "e79e2c06",
   "metadata": {},
   "outputs": [],
   "source": [
    "train_df.columns = ['id', 'category', 'type', 'text']"
   ]
  },
  {
   "cell_type": "code",
   "execution_count": 618,
   "id": "898627e3",
   "metadata": {
    "scrolled": false
   },
   "outputs": [
    {
     "data": {
      "text/html": [
       "<div>\n",
       "<style scoped>\n",
       "    .dataframe tbody tr th:only-of-type {\n",
       "        vertical-align: middle;\n",
       "    }\n",
       "\n",
       "    .dataframe tbody tr th {\n",
       "        vertical-align: top;\n",
       "    }\n",
       "\n",
       "    .dataframe thead th {\n",
       "        text-align: right;\n",
       "    }\n",
       "</style>\n",
       "<table border=\"1\" class=\"dataframe\">\n",
       "  <thead>\n",
       "    <tr style=\"text-align: right;\">\n",
       "      <th></th>\n",
       "      <th>id</th>\n",
       "      <th>category</th>\n",
       "      <th>type</th>\n",
       "      <th>text</th>\n",
       "    </tr>\n",
       "  </thead>\n",
       "  <tbody>\n",
       "    <tr>\n",
       "      <th>0</th>\n",
       "      <td>2401</td>\n",
       "      <td>Borderlands</td>\n",
       "      <td>Positive</td>\n",
       "      <td>im getting on borderlands and i will murder yo...</td>\n",
       "    </tr>\n",
       "    <tr>\n",
       "      <th>1</th>\n",
       "      <td>2401</td>\n",
       "      <td>Borderlands</td>\n",
       "      <td>Positive</td>\n",
       "      <td>I am coming to the borders and I will kill you...</td>\n",
       "    </tr>\n",
       "    <tr>\n",
       "      <th>2</th>\n",
       "      <td>2401</td>\n",
       "      <td>Borderlands</td>\n",
       "      <td>Positive</td>\n",
       "      <td>im getting on borderlands and i will kill you ...</td>\n",
       "    </tr>\n",
       "    <tr>\n",
       "      <th>3</th>\n",
       "      <td>2401</td>\n",
       "      <td>Borderlands</td>\n",
       "      <td>Positive</td>\n",
       "      <td>im coming on borderlands and i will murder you...</td>\n",
       "    </tr>\n",
       "    <tr>\n",
       "      <th>4</th>\n",
       "      <td>2401</td>\n",
       "      <td>Borderlands</td>\n",
       "      <td>Positive</td>\n",
       "      <td>im getting on borderlands 2 and i will murder ...</td>\n",
       "    </tr>\n",
       "  </tbody>\n",
       "</table>\n",
       "</div>"
      ],
      "text/plain": [
       "     id     category      type  \\\n",
       "0  2401  Borderlands  Positive   \n",
       "1  2401  Borderlands  Positive   \n",
       "2  2401  Borderlands  Positive   \n",
       "3  2401  Borderlands  Positive   \n",
       "4  2401  Borderlands  Positive   \n",
       "\n",
       "                                                text  \n",
       "0  im getting on borderlands and i will murder yo...  \n",
       "1  I am coming to the borders and I will kill you...  \n",
       "2  im getting on borderlands and i will kill you ...  \n",
       "3  im coming on borderlands and i will murder you...  \n",
       "4  im getting on borderlands 2 and i will murder ...  "
      ]
     },
     "execution_count": 618,
     "metadata": {},
     "output_type": "execute_result"
    }
   ],
   "source": [
    "train_df.head()"
   ]
  },
  {
   "cell_type": "markdown",
   "id": "bee2c152",
   "metadata": {},
   "source": [
    "### Missing Data\n",
    "It turns out that train dataset contains missing values in text column. I deleted those entries. The test dataset seems to be okey."
   ]
  },
  {
   "cell_type": "code",
   "execution_count": 619,
   "id": "fd25061f",
   "metadata": {
    "scrolled": false
   },
   "outputs": [
    {
     "name": "stdout",
     "output_type": "stream",
     "text": [
      "<class 'pandas.core.frame.DataFrame'>\n",
      "RangeIndex: 74682 entries, 0 to 74681\n",
      "Data columns (total 4 columns):\n",
      " #   Column    Non-Null Count  Dtype \n",
      "---  ------    --------------  ----- \n",
      " 0   id        74682 non-null  int64 \n",
      " 1   category  74682 non-null  object\n",
      " 2   type      74682 non-null  object\n",
      " 3   text      73996 non-null  object\n",
      "dtypes: int64(1), object(3)\n",
      "memory usage: 2.3+ MB\n"
     ]
    }
   ],
   "source": [
    "train_df.info()"
   ]
  },
  {
   "cell_type": "code",
   "execution_count": 620,
   "id": "2279b75d",
   "metadata": {
    "scrolled": false
   },
   "outputs": [
    {
     "data": {
      "text/plain": [
       "id            0\n",
       "category      0\n",
       "type          0\n",
       "text        686\n",
       "dtype: int64"
      ]
     },
     "execution_count": 620,
     "metadata": {},
     "output_type": "execute_result"
    }
   ],
   "source": [
    "train_df.isnull().sum()"
   ]
  },
  {
   "cell_type": "code",
   "execution_count": 621,
   "id": "32c8eed0",
   "metadata": {},
   "outputs": [
    {
     "name": "stdout",
     "output_type": "stream",
     "text": [
      "<class 'pandas.core.frame.DataFrame'>\n",
      "RangeIndex: 1000 entries, 0 to 999\n",
      "Data columns (total 4 columns):\n",
      " #   Column    Non-Null Count  Dtype \n",
      "---  ------    --------------  ----- \n",
      " 0   id        1000 non-null   int64 \n",
      " 1   category  1000 non-null   object\n",
      " 2   type      1000 non-null   object\n",
      " 3   text      1000 non-null   object\n",
      "dtypes: int64(1), object(3)\n",
      "memory usage: 31.4+ KB\n"
     ]
    }
   ],
   "source": [
    "test_df.info()"
   ]
  },
  {
   "cell_type": "code",
   "execution_count": 622,
   "id": "24658b9e",
   "metadata": {},
   "outputs": [],
   "source": [
    "train_df.dropna(inplace=True, axis=0)"
   ]
  },
  {
   "cell_type": "code",
   "execution_count": 623,
   "id": "ed275c37",
   "metadata": {
    "scrolled": true
   },
   "outputs": [
    {
     "data": {
      "text/plain": [
       "id          0\n",
       "category    0\n",
       "type        0\n",
       "text        0\n",
       "dtype: int64"
      ]
     },
     "execution_count": 623,
     "metadata": {},
     "output_type": "execute_result"
    }
   ],
   "source": [
    "train_df.isnull().sum()"
   ]
  },
  {
   "cell_type": "markdown",
   "id": "c829498a",
   "metadata": {},
   "source": [
    "### Categories\n",
    "Both sets contain the same categories which are listed below."
   ]
  },
  {
   "cell_type": "code",
   "execution_count": 624,
   "id": "b8b93e50",
   "metadata": {},
   "outputs": [
    {
     "name": "stdout",
     "output_type": "stream",
     "text": [
      "True\n"
     ]
    }
   ],
   "source": [
    "distinct_categories_train = train_df['category'].unique()\n",
    "distinct_categories_val = test_df['category'].unique()\n",
    "\n",
    "categories_train_set = set(distinct_categories_train)\n",
    "categories_val_set = set(distinct_categories_val)\n",
    "\n",
    "print(categories_train_set == categories_val_set)"
   ]
  },
  {
   "cell_type": "code",
   "execution_count": 625,
   "id": "bd27c4f3",
   "metadata": {},
   "outputs": [
    {
     "data": {
      "text/plain": [
       "{'Amazon',\n",
       " 'ApexLegends',\n",
       " 'AssassinsCreed',\n",
       " 'Battlefield',\n",
       " 'Borderlands',\n",
       " 'CS-GO',\n",
       " 'CallOfDuty',\n",
       " 'CallOfDutyBlackopsColdWar',\n",
       " 'Cyberpunk2077',\n",
       " 'Dota2',\n",
       " 'FIFA',\n",
       " 'Facebook',\n",
       " 'Fortnite',\n",
       " 'Google',\n",
       " 'GrandTheftAuto(GTA)',\n",
       " 'Hearthstone',\n",
       " 'HomeDepot',\n",
       " 'LeagueOfLegends',\n",
       " 'MaddenNFL',\n",
       " 'Microsoft',\n",
       " 'NBA2K',\n",
       " 'Nvidia',\n",
       " 'Overwatch',\n",
       " 'PlayStation5(PS5)',\n",
       " 'PlayerUnknownsBattlegrounds(PUBG)',\n",
       " 'RedDeadRedemption(RDR)',\n",
       " 'TomClancysGhostRecon',\n",
       " 'TomClancysRainbowSix',\n",
       " 'Verizon',\n",
       " 'WorldOfCraft',\n",
       " 'Xbox(Xseries)',\n",
       " 'johnson&johnson'}"
      ]
     },
     "execution_count": 625,
     "metadata": {},
     "output_type": "execute_result"
    }
   ],
   "source": [
    "categories_train_set"
   ]
  },
  {
   "cell_type": "markdown",
   "id": "1679db32",
   "metadata": {},
   "source": [
    "### Distribution of Emotion\n",
    "Distribution of emotion (type column) in both sets seem to be similiar."
   ]
  },
  {
   "cell_type": "code",
   "execution_count": 626,
   "id": "28cc8ef9",
   "metadata": {
    "scrolled": true
   },
   "outputs": [
    {
     "data": {
      "text/plain": [
       "type\n",
       "Negative      22358\n",
       "Positive      20655\n",
       "Neutral       18108\n",
       "Irrelevant    12875\n",
       "Name: count, dtype: int64"
      ]
     },
     "execution_count": 626,
     "metadata": {},
     "output_type": "execute_result"
    }
   ],
   "source": [
    "train_df['type'].value_counts()"
   ]
  },
  {
   "cell_type": "code",
   "execution_count": 627,
   "id": "1fda43a8",
   "metadata": {},
   "outputs": [
    {
     "data": {
      "image/png": "[encoded data removed]",
      "text/plain": [
       "<Figure size 1000x600 with 1 Axes>"
      ]
     },
     "metadata": {},
     "output_type": "display_data"
    }
   ],
   "source": [
    "plt.figure(figsize=(10, 6))\n",
    "train_df['type'].value_counts().plot(kind='bar')\n",
    "\n",
    "total_samples_train = len(train_df)\n",
    "for i, count in enumerate(train_df['type'].value_counts()):\n",
    "    percentage = (count / total_samples_train) * 100\n",
    "    plt.text(i, count, f'{percentage:.2f}%', ha='center', va='bottom')\n",
    "    \n",
    "plt.title('Distribution of Emotion in Training Data')\n",
    "plt.xlabel('Sentiment')\n",
    "plt.ylabel('Count')\n",
    "plt.xticks(rotation=0)\n",
    "plt.show()"
   ]
  },
  {
   "cell_type": "code",
   "execution_count": 628,
   "id": "29cc6375",
   "metadata": {
    "scrolled": false
   },
   "outputs": [
    {
     "data": {
      "text/plain": [
       "type\n",
       "Neutral       285\n",
       "Positive      277\n",
       "Negative      266\n",
       "Irrelevant    172\n",
       "Name: count, dtype: int64"
      ]
     },
     "execution_count": 628,
     "metadata": {},
     "output_type": "execute_result"
    }
   ],
   "source": [
    "test_df['type'].value_counts()"
   ]
  },
  {
   "cell_type": "code",
   "execution_count": 629,
   "id": "d9fc963a",
   "metadata": {},
   "outputs": [
    {
     "data": {
      "image/png": "[encoded data removed]",
      "text/plain": [
       "<Figure size 1000x600 with 1 Axes>"
      ]
     },
     "metadata": {},
     "output_type": "display_data"
    }
   ],
   "source": [
    "plt.figure(figsize=(10, 6))\n",
    "test_df['type'].value_counts().plot(kind='bar')\n",
    "\n",
    "total_samples_test = len(test_df)\n",
    "for i, count in enumerate(test_df['type'].value_counts()):\n",
    "    percentage = (count / total_samples_test) * 100\n",
    "    plt.text(i, count, f'{percentage:.2f}%', ha='center', va='bottom')\n",
    "\n",
    "plt.title('Distribution of Emotion in Test Data')\n",
    "plt.xlabel('Sentiment')\n",
    "plt.ylabel('Count')\n",
    "plt.xticks(rotation=0)\n",
    "plt.show()"
   ]
  },
  {
   "cell_type": "markdown",
   "id": "9a345630",
   "metadata": {},
   "source": [
    "### Text Length\n",
    "Tweet lengths in both data set are about right. Whats worth noting is that the text isn't perfect - there are sometimes weird (they seem to appear without context), not alphanumeric characters. Additionally there are a few outliers in the training set."
   ]
  },
  {
   "cell_type": "code",
   "execution_count": 630,
   "id": "50c9f0c9",
   "metadata": {
    "scrolled": false
   },
   "outputs": [
    {
     "data": {
      "image/png": "[encoded data removed]",
      "text/plain": [
       "<Figure size 1000x600 with 1 Axes>"
      ]
     },
     "metadata": {},
     "output_type": "display_data"
    },
    {
     "data": {
      "image/png": "[encoded data removed]",
      "text/plain": [
       "<Figure size 1000x600 with 1 Axes>"
      ]
     },
     "metadata": {},
     "output_type": "display_data"
    }
   ],
   "source": [
    "train_df['text_length'] = train_df['text'].apply(len)\n",
    "train_df['word_count'] = train_df['text'].apply(lambda x: len(str(x).split()))\n",
    "\n",
    "plt.figure(figsize=(10, 6))\n",
    "plt.hist(train_df['text_length'], bins=75, edgecolor='black')\n",
    "plt.xlabel('Text Length')\n",
    "plt.ylabel('Frequency')\n",
    "plt.title('Amount of Characters in Tweets in Training Data')\n",
    "plt.show()\n",
    "\n",
    "plt.figure(figsize=(10, 6))\n",
    "plt.hist(train_df['word_count'], bins=75, edgecolor='black')\n",
    "plt.xlabel('Word Count')\n",
    "plt.ylabel('Frequency')\n",
    "plt.title('Amount of Words in Tweets in Training Data')\n",
    "plt.show()"
   ]
  },
  {
   "cell_type": "code",
   "execution_count": 631,
   "id": "99e81335",
   "metadata": {},
   "outputs": [
    {
     "name": "stdout",
     "output_type": "stream",
     "text": [
      "Mean word count: 19.226620357857183\n",
      "Mean text length: 108.78365046759285\n"
     ]
    }
   ],
   "source": [
    "print(\"Mean word count:\", train_df['word_count'].mean())\n",
    "print(\"Mean text length:\", train_df['text_length'].mean())"
   ]
  },
  {
   "cell_type": "code",
   "execution_count": 632,
   "id": "a20edd7d",
   "metadata": {
    "scrolled": false
   },
   "outputs": [
    {
     "data": {
      "image/png": "[encoded data removed]",
      "text/plain": [
       "<Figure size 1000x600 with 1 Axes>"
      ]
     },
     "metadata": {},
     "output_type": "display_data"
    },
    {
     "data": {
      "image/png": "[encoded data removed]",
      "text/plain": [
       "<Figure size 1000x600 with 1 Axes>"
      ]
     },
     "metadata": {},
     "output_type": "display_data"
    }
   ],
   "source": [
    "test_df['text_length'] = test_df['text'].apply(len)\n",
    "test_df['word_count'] = test_df['text'].apply(lambda x: len(str(x).split()))\n",
    "\n",
    "# Plotting the histogram\n",
    "plt.figure(figsize=(10, 6))\n",
    "plt.hist(test_df['text_length'], bins=75, edgecolor='black')\n",
    "plt.xlabel('Text Length')\n",
    "plt.ylabel('Frequency')\n",
    "plt.title('Amount of Characters in Tweets in Test Data')\n",
    "plt.show()\n",
    "\n",
    "plt.figure(figsize=(10, 6))\n",
    "plt.hist(test_df['word_count'], bins=75, edgecolor='black')\n",
    "plt.xlabel('Word Count')\n",
    "plt.ylabel('Frequency')\n",
    "plt.title('Amount of Words in Tweets in Test Data')\n",
    "plt.show()"
   ]
  },
  {
   "cell_type": "code",
   "execution_count": 633,
   "id": "1ec6204b",
   "metadata": {
    "scrolled": true
   },
   "outputs": [
    {
     "name": "stdout",
     "output_type": "stream",
     "text": [
      "Mean word count: 20.94\n",
      "Mean text length: 131.849\n"
     ]
    }
   ],
   "source": [
    "print(\"Mean word count:\", test_df['word_count'].mean())\n",
    "print(\"Mean text length:\", test_df['text_length'].mean())"
   ]
  },
  {
   "cell_type": "markdown",
   "id": "2372552f",
   "metadata": {},
   "source": [
    "### Italy?\n",
    "I decided to take a look at tweets in train dataset that are above 400 characters length. They all have a lot of repetitions. What cought my eye were the multiple appearances of the tweet that contained only word 'Italy'. In whole dataset there are only 9 tweets that contain this word (regardless if its 'italy' or 'Italy'). What's weird here is that the repeating ones have mostly different categories and labels ('type' column) despite being the same. It raises susptions about quality of labeling. Having that in mind I scoped data for a little while but it mostly seemed to be alright. This time I focused on classification but it different setting in should have been checked more thoroughly."
   ]
  },
  {
   "cell_type": "code",
   "execution_count": 634,
   "id": "16dfd904",
   "metadata": {
    "scrolled": true
   },
   "outputs": [
    {
     "name": "stdout",
     "output_type": "stream",
     "text": [
      "0)\n",
      "Italy, Italy, Italy, Italy, Italy, Italy, Italy, Italy, Italy, Italy, Italy, Italy, Italy, Italy, Italy, Italy, Italy, Italy, Italy, Italy, Italy, Italy, Italy, Italy, Italy, Italy, Italy, Italy, Italy, Italy, Italy, Italy, Italy, Italy, Italy, Italy, Italy, Italy, Italy, Italy, Italy, Italy, Italy, Italy, Italy, Italy, Italy, Italy, Italy, Italy, Italy, Italy, Italy, Italy, Italy, Italy, Italy, Italy, Italy, Italy, Italy, Italy, Italy, Italy, Italy, Italy, Italy, Italy, Italy, Italy, Italy, Italy, Italy, Italy, Italy, Italy, Italy, Italy, Italy, Italy, Italy, Italy, Italy, Italy, Italy, Italy, Italy, Italy, Italy, Italy, Italy, Italy, Italy, Italy, Italy, Italy, Italy, Italy, Italy,\n",
      "\n",
      "\n",
      "\n",
      "1)\n",
      "Italy, Italy, Italy, Italy, Italy, Italy, Italy, Italy, Italy, Italy, Italy, Italy, Italy, Italy, Italy, Italy, Italy, Italy, Italy, Italy, Italy, Italy, Italy, Italy, Italy, Italy, Italy, Italy, Italy, Italy, Italy, Italy, Italy, Italy, Italy, Italy, Italy, Italy, Italy, Italy, Italy, Italy, Italy, Italy, Italy, Italy, Italy, Italy, Italy, Italy, Italy, Italy, Italy, Italy, Italy, Italy, Italy, Italy, Italy, Italy, Italy, Italy, Italy, Italy, Italy, Italy, Italy, Italy, Italy, Italy, Italy, Italy, Italy, Italy, Italy, Italy, Italy, Italy, Italy, Italy, Italy, Italy, Italy, Italy, Italy, Italy, Italy, Italy, Italy, Italy, Italy, Italy, Italy, Italy, Italy, Italy, Italy, Italy, Italy,\n",
      "\n",
      "\n",
      "\n",
      "2)\n",
      "by Dart Against Humanity 2 Ep. 79 ( 9 S5 E4 ) : The New New Not to Normal.. Apple : itunes. apple. com / us / podcast / 254 dar ….. Google : google. com / podcasts? feed = ….. o Google Play : play. google. com / music / listen.. Spotify : open. o spotify. com / show / 7oyFdHIm6 ….. A iHeartRadio : iheart. com / podcast / 256 - da ….. Pandora :... pandora. com / podcast / dart - a ….. * Amazon Alexa https://t.co/uCZfIRX9Ip ]\n",
      "\n",
      "\n",
      "\n",
      "3)\n",
      "Italy, Italy, Italy, Italy, Italy, Italy, Italy, Italy, Italy, Italy, Italy, Italy, Italy, Italy, Italy, Italy, Italy, Italy, Italy, Italy, Italy, Italy, Italy, Italy, Italy, Italy, Italy, Italy, Italy, Italy, Italy, Italy, Italy, Italy, Italy, Italy, Italy, Italy, Italy, Italy, Italy, Italy, Italy, Italy, Italy, Italy, Italy, Italy, Italy, Italy, Italy, Italy, Italy, Italy, Italy, Italy, Italy, Italy, Italy, Italy, Italy, Italy, Italy, Italy, Italy, Italy, Italy, Italy, Italy, Italy, Italy, Italy, Italy, Italy, Italy, Italy, Italy, Italy, Italy, Italy, Italy, Italy, Italy, Italy, Italy, Italy, Italy, Italy, Italy, Italy, Italy, Italy, Italy, Italy, Italy, Italy, Italy, Italy, Italy,\n",
      "\n",
      "\n",
      "\n",
      "4)\n",
      "NBA 2K is the dudest sports franchise in the universe... They're so thrash bruh lmoooooooooooooooooooooooooooooooooooooooooooooooooooooooooooooooooooooooooooooooooooooooooooooooooooooooooooooooooooooooooooooooooooooooooooooooooooooooooooooooooooooooooooooooooooooooooooooooooooooooooooooooooooooooooooooooooooooooooooooooooooooooooooooooooooooooooooooooooooooooooooooooooooooooooooooooooooooooooooooooooooooooooooooooooooooooooooooooo\n",
      "\n",
      "\n",
      "\n",
      "5)\n",
      "I did this trick a couple of months ago hahahahahahahahahahahahahahahahahahahahahahahahahahahahahahahahahahahahahahahahahahahahahahahahahahahahahahahahahahahahahahahahahahahahahahahahahahahahahahahahahahahahahahahahahahahahahahahahahahahahahahahahahahahahahahahahahahahahahahahahahahahahahahahahahahahahahahahahahahahahahahahahahahahahahahahahahahahahahahahahahahahahahahahahahahahahahahahahahahahahahahahahahahahahaha\n",
      "\n",
      "\n",
      "\n",
      "6)\n",
      "Italy, Italy, Italy, Italy, Italy, Italy, Italy, Italy, Italy, Italy, Italy, Italy, Italy, Italy, Italy, Italy, Italy, Italy, Italy, Italy, Italy, Italy, Italy, Italy, Italy, Italy, Italy, Italy, Italy, Italy, Italy, Italy, Italy, Italy, Italy, Italy, Italy, Italy, Italy, Italy, Italy, Italy, Italy, Italy, Italy, Italy, Italy, Italy, Italy, Italy, Italy, Italy, Italy, Italy, Italy, Italy, Italy, Italy, Italy, Italy, Italy, Italy, Italy, Italy, Italy, Italy, Italy, Italy, Italy, Italy, Italy, Italy, Italy, Italy, Italy, Italy, Italy, Italy, Italy, Italy, Italy, Italy, Italy, Italy, Italy, Italy, Italy, Italy, Italy, Italy, Italy, Italy, Italy, Italy, Italy, Italy, Italy, Italy, Italy,\n",
      "\n",
      "\n",
      "\n",
      "7)\n",
      "@ YouTubeCreators. @ YouTubeCreators. @ CarryMinati. @ YouTubeGaming. @ YouTubeGaming. @ YouTubeGaming. @ YouTubeGaming. @ YouTubeGaming. @ YouTubeGaming. @ YouTubeGaming. @ YouTubeGaming. @ YouTubeGaming. @ YouTubeGaming. @ YouTubeGaming. @ YouTubeGaming. @ YouTubeGaming. @ YouTubeGaming. @ YouTubeGaming. @ YouTubeGaming. @ YouTubeGaming. @ YouTubeGaming. @ YouTubeGaming. @ YouTubeGaming. @ YouTubeGaming. @ YouTubeGaming.\n",
      "\n",
      "\n",
      "\n",
      "8)\n",
      "Finally, Kingdom Come:. Deliverance... The person in this game got so many unnecessary BS thrown at him by the press. It's pretty nice, and there should be more of these games in other places and at different times... Assassin's Creed is great and everything, but these games are pretty low and oooooooooooooooooooooooooooooooooooooooooooooooooooooooooooooooooooooooooooooooooooooooooooooooooooooooooooooooooooooooooooooooooooooooooooooooooooooooooooooooooooooooooooooooooooooooooooooooooooooooooooooooooooooooooooooooooooooooooooooooooooooooooooooooooooooooo\n",
      "\n",
      "\n",
      "\n",
      "9)\n",
      "At the same time, there are many low-income countries in the world today, including the United States, the United Kingdom, France, Germany, Italy, Italy, Italy, Italy, Italy, Italy, Italy, Italy, Italy, Italy, Italy, Italy, Italy, Italy, Italy, Italy, Italy, Italy, Italy, Italy, Italy, Italy, Italy, Italy, Italy, Italy, Italy, Italy, Italy, Italy, Italy, Italy, Italy, Italy, Italy, Italy, Italy, Italy, Italy, Italy, Italy, Italy, Italy, Italy, Italy, Italy, Italy, Italy, Italy, Italy, Italy, Italy, Italy, Italy, Italy, Italy, Italy, Italy, Italy, Italy, Italy, Italy, Italy, Italy, Italy, Italy, Italy, Italy, Italy, Italy, Italy, Italy, Italy, Italy, Italy, Italy, Italy, Italy, Italy, Italy, Italy, Italy, Italy, Italy,\n",
      "\n",
      "\n",
      "\n",
      "10)\n",
      "Season 6, \"Baby\"; Season 3, \"Too Much Love Kills You\"; Season 3, \"Baby\"; Season 4, \"Baby\"; Season 5, \"Baby\"; Season 6, \"Baby\"; Season 6, \"Too Much Love Kills You\"; Season 7, \"Baby\"; Season 8, \"Baby\"; Season 9, \"Baby\"; Season 9, \"Baby\"; Season 9, \"Baby\"; Season 9, \"Baby\"; Season 9, \"Babe\"; Season 10, \"Too Much Love Kills You\"; Season 10, \"Babe\"; Season 11, \"Babe\"; Season 11, \"Babe\"; Season 11, \"Baby\"; Season 11, \"Too Much Love Kills You.\"\n",
      "\n",
      "\n",
      "\n",
      "11)\n",
      "Yassuo scores Perfect Example of High Level Treat.. In the League of Legends.. Daily Moments of the League of Legends Ep 1075 i.tt / 30E4MbG.. In the League of Legends.. Daily Moments of the League of Legends Ep 1075 i.tt / 30E4MbG.. In the League of Legends.. Daily Moments of the League of Legends Ep 1075 i.tt / 30E4MbG.. In the League of Legends.. Daily Moments of the League of Legends Ep 1075 i.tt / 30E4MbG..\n",
      "\n",
      "\n",
      "\n",
      "12)\n",
      "playing in 0.3% league tile Clothing is SO enjoyable playing in 0.3% league tile Clothing is SO enjoyable playing in 0.3% league tile Clothing is SO enjoyable playing in 0.3% league tile Clothing is SO enjoyable playing in 0.3% league tile Clothing is SO enjoyable playing in 0.3% league tile Clothing is SO enjoyable playing in 0.3% league tile Clothing is SO enjoyable playing in 0.3% league tile Clothing is SO enjoyable playing in 0.3% league tile Clothing is SO enjoyable playing in 0.3% league tile Clothing is SO enjoyable playing in 0.3% league tile Clothing is SO enjoyable playing in 0.3% league tile Clothing\n",
      "\n",
      "\n",
      "\n",
      "13)\n",
      "Italy, Italy, Italy, Italy, Italy, Italy, Italy, Italy, Italy, Italy, Italy, Italy, Italy, Italy, Italy, Italy, Italy, Italy, Italy, Italy, Italy, Italy, Italy, Italy, Italy, Italy, Italy, Italy, Italy, Italy, Italy, Italy, Italy, Italy, Italy, Italy, Italy, Italy, Italy, Italy, Italy, Italy, Italy, Italy, Italy, Italy, Italy, Italy, Italy, Italy, Italy, Italy, Italy, Italy, Italy, Italy, Italy, Italy, Italy, Italy, Italy, Italy, Italy, Italy, Italy, Italy, Italy, Italy, Italy, Italy, Italy, Italy, Italy, Italy, Italy, Italy, Italy, Italy, Italy, Italy, Italy, Italy, Italy, Italy, Italy, Italy, Italy, Italy, Italy, Italy, Italy, Italy, Italy, Italy, Italy, Italy, Italy, Italy, Italy,\n",
      "\n",
      "\n",
      "\n",
      "14)\n",
      "I was just playing pubg with someone yan-kan + her cute sabakhan accent! I'm a soooooooooooooooooooooooooooooooooooooooooooooooooooooooooooooooooooooooooooooooooooooooooooooooooooooooooooooooooooooooooooooooooooooooooooooooooooooooooooooooooooooooooooooooooooooooooooooooooooooooooooooooooooooooooooooooooooooooooooooooooooooooooooooooooooooooooooooooooooooooooooooooooooooooooooooooooooooooooooooooooooooooooooooooooooooooooooooo\n",
      "\n",
      "\n",
      "\n",
      "15)\n",
      "It's the birthday of toga gggggggggggggggggggggggggggggggggggggggggggggggggggggggggggggggggggggggggggggggggggggggggggggggggggggggggggggggggggggggggggggggggggggggggggggggggggggggggggggggggggggggggggggggggggggggggggggggggggggggggggggggggggggggggggggggggggggggggggggggggggggggggggggggggggggggggggggggggggggggggggggggggggggggggggggggggggggggggggggggggggggggggggggggggggggggggggggggggggggggggggggggggggggggggggggg\n",
      "\n",
      "\n",
      "\n",
      "16)\n",
      "There was a meeting with the interns on their upcoming projects, and my background was a TV showing my ped Red Dead Reduction 2 after the pillaging of the dead body, so I'm just trying to hide it from everyone, as I am: / / / / / / / / / / / / / / / / / / / / / / / / / / / / / / / / / / / / / / / / / / / / / / / / / / / / / / / / / / / / / / / / / / / / / / / / / / / / / / / / / / / / / / / / / / / / / / / / / / / / / / / / / / / / / / / / / / / / / / / / / / / / / / / / / / / / / / / / / / / / / / / / / / /\n",
      "\n",
      "\n",
      "\n",
      "17)\n",
      ".... mixer.com / makavelincheese or makavelincheese.. @ ShoutGamers... @ share _ stream... @ tchSharing.. @ tchGaming.. @ tchOnline... @ tchBot... @ tchGaming... @ tchGaming... @ tchGaming... @ tchGaming.. @ tchGaming. @ tchGaming. @ tchGaming. @ tchGaming. @ tchGaming. @ tchGaming. @ tchGaming. @ tchGaming. @ tchGaming. @ tchGaming. @ tchGaming. @ tchGaming. @ tchGaming. @ tchGaming. @ tchGaming. @ tchGaming. @ tchGaming. @ tchGaming. @ tchGaming. @ tchGaming. @\n",
      "\n",
      "\n",
      "\n",
      "18)\n",
      "Facebook spent the second day after I was banned from sharing my account today and suddenly my password is not working and oooooooooooooooooooooooooooooooooooooooooooooooooooooooooooooooooooooooooooooooooooooooooooooooooooooooooooooooooooooooooooooooooooooooooooooooooooooooooooooooooooooooooooooooooooooooooooooooooooooooooooooooooooooooooooooooooooooooooooooooooooooooooooooooooooooooooooooooooooooooooooooooooooooooooooooooooooooooooooooooooooooooooooooooooooooooooooooooo\n",
      "\n",
      "\n",
      "\n",
      "19)\n",
      "Italy, Italy, Italy, Italy, Italy, Italy, Italy, Italy, Italy, Italy, Italy, Italy, Italy, Italy, Italy, Italy, Italy, Italy, Italy, Italy, Italy, Italy, Italy, Italy, Italy, Italy, Italy, Italy, Italy, Italy, Italy, Italy, Italy, Italy, Italy, Italy, Italy, Italy, Italy, Italy, Italy, Italy, Italy, Italy, Italy, Italy, Italy, Italy, Italy, Italy, Italy, Italy, Italy, Italy, Italy, Italy, Italy, Italy, Italy, Italy, Italy, Italy, Italy, Italy, Italy, Italy, Italy, Italy, Italy, Italy, Italy, Italy, Italy, Italy, Italy, Italy, Italy, Italy, Italy, Italy, Italy, Italy, Italy, Italy, Italy, Italy, Italy, Italy, Italy, Italy, Italy, Italy, Italy, Italy, Italy, Italy, Italy, Italy, Italy,\n",
      "\n",
      "\n",
      "\n",
      "20)\n",
      "Words of gratitude - travorphippissssssssssssssssssssssssssssssssssssssssssssssssssssssssssssssssssssssssssssssssssssssssssssssssssssssssssssssssssssssssssssssssssssssssssssssssssssssssssssssssssssssssssssssssssssssssssssssssssssssssssssssssssssssssssssssssssssssssssssssssssssssssssssssssssssssssssssssssssssssssssssssssssssssssssssssssssssssssssssssssssssssssssssssssssssssssssssssssssssssssssssssssssssssssss\n",
      "\n",
      "\n",
      "\n",
      "21)\n",
      "of Madden NFL 21. [ PS4 - SD 65 ] metacritic. com / game / playstati …. [ XONE - CD 69 ] metacritic. com / main game / xbox - one / …. [ PC ] game metacritic. com / game / pc / madden …. GameSpot : \" With far more technical sound issues ongoing than normal and large chunks of already recycled content, Madden NFL 21 feels far more like an update than a brand - fresh new game. \" https://t.co/vRrgu2aspc ]\n",
      "\n",
      "\n",
      "\n",
      "22)\n",
      "The REAL JACKBOYS in front of Tony Scott have stolen the slogan to sell all the shit merch oooooooooooooooooooooooooooooooooooooooooooooooooooooooooooooooooooooooooooooooooooooooooooooooooooooooooooooooooooooooooooooooooooooooooooooooooooooooooooooooooooooooooooooooooooooooooooooooooooooooooooooooooooooooooooooooooooooooooooooooooooooooooooooooooooooooooooooooooooooooooooooooooooooooooooooooooooooooooooooooooooooooooooooooooooooooo\n",
      "\n",
      "\n",
      "\n",
      "23)\n",
      "When fear is raised that \"punk-2077\" may be postponed for several years, which I hope will not happen, but here is another powerful blow to the Bollocks in 2020: / / / / / / / / / / / / / / / / / / / / / / / / / / / / / / / / / / / / / / / / / / / / / / / / / / / / / / / / / / / / / / / / / / / / / / / / / / / / / / / / / / / / / / / / / / / / / / / / / / / / / / / / / / / / / / / / / / / / / / / / / / / / / / / / / / / / / / / / / / / / / / / / / / / / / / / / / / / / / / / /\n",
      "\n",
      "\n",
      "\n",
      "24)\n",
      "I'm a little disappointed, but my schedule approves this decision entirely. ^ _ _ _ _ _ _ _ _ _ _ _ _ _ _ _ _ _ _ _ _ _ _ _ _ _ _ _ _ _ _ _ _ _ _ _ _ _ _ _ _ _ _ _ _ _ _ _ _ _ _ _ _ _ _ _ _ _ _ _ _ _ _ _ _ _ _ _ _ _ _ _ _ _ _ _ _ _ _ _ _ _ _ _ _ _ _ _ _ _ _ _ _ _ _ _ _ _ _ _ _ _ _ _ _ _ _ _ _ _ _ _ _ _ _ _ _ _ _ _ _ _ _ _ _ _ _ _ _ _ _ _ _ _ _ _ _ _ _ _ _ _ _ _ _ _ _ _ _ _ _ _ _ _ _ _ _ _ _ _ _ _ _ _ _ _ _ _ _ _ _ _ _ _ _ _ _ _ _ _ _ _ _\n",
      "\n",
      "\n",
      "\n",
      "25)\n",
      "The event dedicated to Victory Day in the Great Patriotic War was held as part of the celebration of the 70th anniversary of Victory in the Great Patriotic War of 1941-1945, which was attended by veterans of the Great Patriotic War, home front workers, home front workers, home front workers, home front workers, home front workers, home front workers, home front workers, home front workers, home front workers, home front workers, home front workers, home front workers, home front workers, home front workers, home front workers, home front workers, home front workers, home front workers, home front workers, home front workers, home front workers, home front workers, home front workers, home front workers, home front workers, home front workers, home front workers, home front workers, home front workers, home front workers, home front workers, home front workers, home front workers, home front workers, home front workers, home front workers, home\n",
      "\n",
      "\n",
      "\n",
      "26)\n",
      "Italy, Italy, Italy, Italy, Italy, Italy, Italy, Italy, Italy, Italy, Italy, Italy, Italy, Italy, Italy, Italy, Italy, Italy, Italy, Italy, Italy, Italy, Italy, Italy, Italy, Italy, Italy, Italy, Italy, Italy, Italy, Italy, Italy, Italy, Italy, Italy, Italy, Italy, Italy, Italy, Italy, Italy, Italy, Italy, Italy, Italy, Italy, Italy, Italy, Italy, Italy, Italy, Italy, Italy, Italy, Italy, Italy, Italy, Italy, Italy, Italy, Italy, Italy, Italy, Italy, Italy, Italy, Italy, Italy, Italy, Italy, Italy, Italy, Italy, Italy, Italy, Italy, Italy, Italy, Italy, Italy, Italy, Italy, Italy, Italy, Italy, Italy, Italy, Italy, Italy, Italy, Italy, Italy, Italy, Italy, Italy, Italy, Italy, Italy,\n",
      "\n",
      "\n",
      "\n"
     ]
    }
   ],
   "source": [
    "long_tweets = train_df[train_df['text'].apply(len) > 400]\n",
    "\n",
    "for i, tweet in enumerate(long_tweets['text']):\n",
    "    print(f\"{i})\\n{tweet}\\n\\n\\n\")"
   ]
  },
  {
   "cell_type": "code",
   "execution_count": 635,
   "id": "fb6b64d7",
   "metadata": {
    "scrolled": false
   },
   "outputs": [
    {
     "data": {
      "text/html": [
       "<div>\n",
       "<style scoped>\n",
       "    .dataframe tbody tr th:only-of-type {\n",
       "        vertical-align: middle;\n",
       "    }\n",
       "\n",
       "    .dataframe tbody tr th {\n",
       "        vertical-align: top;\n",
       "    }\n",
       "\n",
       "    .dataframe thead th {\n",
       "        text-align: right;\n",
       "    }\n",
       "</style>\n",
       "<table border=\"1\" class=\"dataframe\">\n",
       "  <thead>\n",
       "    <tr style=\"text-align: right;\">\n",
       "      <th></th>\n",
       "      <th>id</th>\n",
       "      <th>category</th>\n",
       "      <th>type</th>\n",
       "      <th>text</th>\n",
       "      <th>text_length</th>\n",
       "      <th>word_count</th>\n",
       "    </tr>\n",
       "  </thead>\n",
       "  <tbody>\n",
       "    <tr>\n",
       "      <th>3098</th>\n",
       "      <td>1737</td>\n",
       "      <td>CallOfDutyBlackopsColdWar</td>\n",
       "      <td>Negative</td>\n",
       "      <td>Italy, Italy, Italy, Italy, Italy, Italy, Ital...</td>\n",
       "      <td>692</td>\n",
       "      <td>99</td>\n",
       "    </tr>\n",
       "    <tr>\n",
       "      <th>3968</th>\n",
       "      <td>1885</td>\n",
       "      <td>CallOfDutyBlackopsColdWar</td>\n",
       "      <td>Irrelevant</td>\n",
       "      <td>Italy, Italy, Italy, Italy, Italy, Italy, Ital...</td>\n",
       "      <td>692</td>\n",
       "      <td>99</td>\n",
       "    </tr>\n",
       "    <tr>\n",
       "      <th>10256</th>\n",
       "      <td>12966</td>\n",
       "      <td>Xbox(Xseries)</td>\n",
       "      <td>Neutral</td>\n",
       "      <td>Italy, Italy, Italy, Italy, Italy, Italy, Ital...</td>\n",
       "      <td>692</td>\n",
       "      <td>99</td>\n",
       "    </tr>\n",
       "    <tr>\n",
       "      <th>18128</th>\n",
       "      <td>9907</td>\n",
       "      <td>PlayStation5(PS5)</td>\n",
       "      <td>Positive</td>\n",
       "      <td>Italy, Italy, Italy, Italy, Italy, Italy, Ital...</td>\n",
       "      <td>692</td>\n",
       "      <td>99</td>\n",
       "    </tr>\n",
       "    <tr>\n",
       "      <th>23309</th>\n",
       "      <td>4395</td>\n",
       "      <td>CS-GO</td>\n",
       "      <td>Positive</td>\n",
       "      <td>What a game it played there. BIG did a great j...</td>\n",
       "      <td>216</td>\n",
       "      <td>40</td>\n",
       "    </tr>\n",
       "    <tr>\n",
       "      <th>28994</th>\n",
       "      <td>588</td>\n",
       "      <td>ApexLegends</td>\n",
       "      <td>Negative</td>\n",
       "      <td>At the same time, there are many low-income co...</td>\n",
       "      <td>727</td>\n",
       "      <td>106</td>\n",
       "    </tr>\n",
       "    <tr>\n",
       "      <th>36308</th>\n",
       "      <td>8231</td>\n",
       "      <td>Microsoft</td>\n",
       "      <td>Irrelevant</td>\n",
       "      <td>Italy, Italy, Italy, Italy, Italy, Italy, Ital...</td>\n",
       "      <td>692</td>\n",
       "      <td>99</td>\n",
       "    </tr>\n",
       "    <tr>\n",
       "      <th>59126</th>\n",
       "      <td>3335</td>\n",
       "      <td>Facebook</td>\n",
       "      <td>Irrelevant</td>\n",
       "      <td>Italy, Italy, Italy, Italy, Italy, Italy, Ital...</td>\n",
       "      <td>692</td>\n",
       "      <td>99</td>\n",
       "    </tr>\n",
       "    <tr>\n",
       "      <th>73244</th>\n",
       "      <td>8947</td>\n",
       "      <td>Nvidia</td>\n",
       "      <td>Neutral</td>\n",
       "      <td>Italy, Italy, Italy, Italy, Italy, Italy, Ital...</td>\n",
       "      <td>692</td>\n",
       "      <td>99</td>\n",
       "    </tr>\n",
       "  </tbody>\n",
       "</table>\n",
       "</div>"
      ],
      "text/plain": [
       "          id                   category        type  \\\n",
       "3098    1737  CallOfDutyBlackopsColdWar    Negative   \n",
       "3968    1885  CallOfDutyBlackopsColdWar  Irrelevant   \n",
       "10256  12966              Xbox(Xseries)     Neutral   \n",
       "18128   9907          PlayStation5(PS5)    Positive   \n",
       "23309   4395                      CS-GO    Positive   \n",
       "28994    588                ApexLegends    Negative   \n",
       "36308   8231                  Microsoft  Irrelevant   \n",
       "59126   3335                   Facebook  Irrelevant   \n",
       "73244   8947                     Nvidia     Neutral   \n",
       "\n",
       "                                                    text  text_length  \\\n",
       "3098   Italy, Italy, Italy, Italy, Italy, Italy, Ital...          692   \n",
       "3968   Italy, Italy, Italy, Italy, Italy, Italy, Ital...          692   \n",
       "10256  Italy, Italy, Italy, Italy, Italy, Italy, Ital...          692   \n",
       "18128  Italy, Italy, Italy, Italy, Italy, Italy, Ital...          692   \n",
       "23309  What a game it played there. BIG did a great j...          216   \n",
       "28994  At the same time, there are many low-income co...          727   \n",
       "36308  Italy, Italy, Italy, Italy, Italy, Italy, Ital...          692   \n",
       "59126  Italy, Italy, Italy, Italy, Italy, Italy, Ital...          692   \n",
       "73244  Italy, Italy, Italy, Italy, Italy, Italy, Ital...          692   \n",
       "\n",
       "       word_count  \n",
       "3098           99  \n",
       "3968           99  \n",
       "10256          99  \n",
       "18128          99  \n",
       "23309          40  \n",
       "28994         106  \n",
       "36308          99  \n",
       "59126          99  \n",
       "73244          99  "
      ]
     },
     "execution_count": 635,
     "metadata": {},
     "output_type": "execute_result"
    }
   ],
   "source": [
    "italy_tweets = train_df[train_df['text'].str.contains('italy', case=False)].copy()\n",
    "italy_tweets['word_count'] = italy_tweets['text'].apply(lambda x: len(str(x).split()))\n",
    "italy_tweets"
   ]
  },
  {
   "cell_type": "code",
   "execution_count": 636,
   "id": "f2ac8c46",
   "metadata": {
    "scrolled": true
   },
   "outputs": [
    {
     "name": "stdout",
     "output_type": "stream",
     "text": [
      "0)\n",
      "Italy, Italy, Italy, Italy, Italy, Italy, Italy, Italy, Italy, Italy, Italy, Italy, Italy, Italy, Italy, Italy, Italy, Italy, Italy, Italy, Italy, Italy, Italy, Italy, Italy, Italy, Italy, Italy, Italy, Italy, Italy, Italy, Italy, Italy, Italy, Italy, Italy, Italy, Italy, Italy, Italy, Italy, Italy, Italy, Italy, Italy, Italy, Italy, Italy, Italy, Italy, Italy, Italy, Italy, Italy, Italy, Italy, Italy, Italy, Italy, Italy, Italy, Italy, Italy, Italy, Italy, Italy, Italy, Italy, Italy, Italy, Italy, Italy, Italy, Italy, Italy, Italy, Italy, Italy, Italy, Italy, Italy, Italy, Italy, Italy, Italy, Italy, Italy, Italy, Italy, Italy, Italy, Italy, Italy, Italy, Italy, Italy, Italy, Italy,\n",
      "\n",
      "\n",
      "\n",
      "1)\n",
      "Italy, Italy, Italy, Italy, Italy, Italy, Italy, Italy, Italy, Italy, Italy, Italy, Italy, Italy, Italy, Italy, Italy, Italy, Italy, Italy, Italy, Italy, Italy, Italy, Italy, Italy, Italy, Italy, Italy, Italy, Italy, Italy, Italy, Italy, Italy, Italy, Italy, Italy, Italy, Italy, Italy, Italy, Italy, Italy, Italy, Italy, Italy, Italy, Italy, Italy, Italy, Italy, Italy, Italy, Italy, Italy, Italy, Italy, Italy, Italy, Italy, Italy, Italy, Italy, Italy, Italy, Italy, Italy, Italy, Italy, Italy, Italy, Italy, Italy, Italy, Italy, Italy, Italy, Italy, Italy, Italy, Italy, Italy, Italy, Italy, Italy, Italy, Italy, Italy, Italy, Italy, Italy, Italy, Italy, Italy, Italy, Italy, Italy, Italy,\n",
      "\n",
      "\n",
      "\n",
      "2)\n",
      "Italy, Italy, Italy, Italy, Italy, Italy, Italy, Italy, Italy, Italy, Italy, Italy, Italy, Italy, Italy, Italy, Italy, Italy, Italy, Italy, Italy, Italy, Italy, Italy, Italy, Italy, Italy, Italy, Italy, Italy, Italy, Italy, Italy, Italy, Italy, Italy, Italy, Italy, Italy, Italy, Italy, Italy, Italy, Italy, Italy, Italy, Italy, Italy, Italy, Italy, Italy, Italy, Italy, Italy, Italy, Italy, Italy, Italy, Italy, Italy, Italy, Italy, Italy, Italy, Italy, Italy, Italy, Italy, Italy, Italy, Italy, Italy, Italy, Italy, Italy, Italy, Italy, Italy, Italy, Italy, Italy, Italy, Italy, Italy, Italy, Italy, Italy, Italy, Italy, Italy, Italy, Italy, Italy, Italy, Italy, Italy, Italy, Italy, Italy,\n",
      "\n",
      "\n",
      "\n",
      "3)\n",
      "Italy, Italy, Italy, Italy, Italy, Italy, Italy, Italy, Italy, Italy, Italy, Italy, Italy, Italy, Italy, Italy, Italy, Italy, Italy, Italy, Italy, Italy, Italy, Italy, Italy, Italy, Italy, Italy, Italy, Italy, Italy, Italy, Italy, Italy, Italy, Italy, Italy, Italy, Italy, Italy, Italy, Italy, Italy, Italy, Italy, Italy, Italy, Italy, Italy, Italy, Italy, Italy, Italy, Italy, Italy, Italy, Italy, Italy, Italy, Italy, Italy, Italy, Italy, Italy, Italy, Italy, Italy, Italy, Italy, Italy, Italy, Italy, Italy, Italy, Italy, Italy, Italy, Italy, Italy, Italy, Italy, Italy, Italy, Italy, Italy, Italy, Italy, Italy, Italy, Italy, Italy, Italy, Italy, Italy, Italy, Italy, Italy, Italy, Italy,\n",
      "\n",
      "\n",
      "\n",
      "4)\n",
      "What a game it played there. BIG did a great job against Italy and prevailed 3-2. Xantares played with great<unk>. BIG did not face its player with a negative KD in a normal series!.. Well played by the German squad!\n",
      "\n",
      "\n",
      "\n",
      "5)\n",
      "At the same time, there are many low-income countries in the world today, including the United States, the United Kingdom, France, Germany, Italy, Italy, Italy, Italy, Italy, Italy, Italy, Italy, Italy, Italy, Italy, Italy, Italy, Italy, Italy, Italy, Italy, Italy, Italy, Italy, Italy, Italy, Italy, Italy, Italy, Italy, Italy, Italy, Italy, Italy, Italy, Italy, Italy, Italy, Italy, Italy, Italy, Italy, Italy, Italy, Italy, Italy, Italy, Italy, Italy, Italy, Italy, Italy, Italy, Italy, Italy, Italy, Italy, Italy, Italy, Italy, Italy, Italy, Italy, Italy, Italy, Italy, Italy, Italy, Italy, Italy, Italy, Italy, Italy, Italy, Italy, Italy, Italy, Italy, Italy, Italy, Italy, Italy, Italy, Italy, Italy, Italy, Italy, Italy,\n",
      "\n",
      "\n",
      "\n",
      "6)\n",
      "Italy, Italy, Italy, Italy, Italy, Italy, Italy, Italy, Italy, Italy, Italy, Italy, Italy, Italy, Italy, Italy, Italy, Italy, Italy, Italy, Italy, Italy, Italy, Italy, Italy, Italy, Italy, Italy, Italy, Italy, Italy, Italy, Italy, Italy, Italy, Italy, Italy, Italy, Italy, Italy, Italy, Italy, Italy, Italy, Italy, Italy, Italy, Italy, Italy, Italy, Italy, Italy, Italy, Italy, Italy, Italy, Italy, Italy, Italy, Italy, Italy, Italy, Italy, Italy, Italy, Italy, Italy, Italy, Italy, Italy, Italy, Italy, Italy, Italy, Italy, Italy, Italy, Italy, Italy, Italy, Italy, Italy, Italy, Italy, Italy, Italy, Italy, Italy, Italy, Italy, Italy, Italy, Italy, Italy, Italy, Italy, Italy, Italy, Italy,\n",
      "\n",
      "\n",
      "\n",
      "7)\n",
      "Italy, Italy, Italy, Italy, Italy, Italy, Italy, Italy, Italy, Italy, Italy, Italy, Italy, Italy, Italy, Italy, Italy, Italy, Italy, Italy, Italy, Italy, Italy, Italy, Italy, Italy, Italy, Italy, Italy, Italy, Italy, Italy, Italy, Italy, Italy, Italy, Italy, Italy, Italy, Italy, Italy, Italy, Italy, Italy, Italy, Italy, Italy, Italy, Italy, Italy, Italy, Italy, Italy, Italy, Italy, Italy, Italy, Italy, Italy, Italy, Italy, Italy, Italy, Italy, Italy, Italy, Italy, Italy, Italy, Italy, Italy, Italy, Italy, Italy, Italy, Italy, Italy, Italy, Italy, Italy, Italy, Italy, Italy, Italy, Italy, Italy, Italy, Italy, Italy, Italy, Italy, Italy, Italy, Italy, Italy, Italy, Italy, Italy, Italy,\n",
      "\n",
      "\n",
      "\n",
      "8)\n",
      "Italy, Italy, Italy, Italy, Italy, Italy, Italy, Italy, Italy, Italy, Italy, Italy, Italy, Italy, Italy, Italy, Italy, Italy, Italy, Italy, Italy, Italy, Italy, Italy, Italy, Italy, Italy, Italy, Italy, Italy, Italy, Italy, Italy, Italy, Italy, Italy, Italy, Italy, Italy, Italy, Italy, Italy, Italy, Italy, Italy, Italy, Italy, Italy, Italy, Italy, Italy, Italy, Italy, Italy, Italy, Italy, Italy, Italy, Italy, Italy, Italy, Italy, Italy, Italy, Italy, Italy, Italy, Italy, Italy, Italy, Italy, Italy, Italy, Italy, Italy, Italy, Italy, Italy, Italy, Italy, Italy, Italy, Italy, Italy, Italy, Italy, Italy, Italy, Italy, Italy, Italy, Italy, Italy, Italy, Italy, Italy, Italy, Italy, Italy,\n",
      "\n",
      "\n",
      "\n"
     ]
    }
   ],
   "source": [
    "for i, tweet in enumerate(italy_tweets['text']):\n",
    "    print(f\"{i})\\n{tweet}\\n\\n\\n\")"
   ]
  },
  {
   "cell_type": "markdown",
   "id": "22978452",
   "metadata": {},
   "source": [
    "## Data Preparation\n",
    "In case of tweets I saw that people tend to do more sophisticated text cleaning than only removing non-alphanumeric characters from it but for some, unclear to me, reason restricting myself only to this gave the best results in terms of accuracy of linear regression model. I tried excluding stop_words but it gave me slightly worse results. I also tried using TfidfVectorizer, but again CountVectorizer gave the better accuracy."
   ]
  },
  {
   "cell_type": "code",
   "execution_count": 637,
   "id": "5d9f6959",
   "metadata": {},
   "outputs": [],
   "source": [
    "import re\n",
    "# Apply regex to remove non-alphanumeric characters from 'text' column\n",
    "train_df[\"text\"] = train_df.text.apply(lambda x: re.sub('[^A-Za-z0-9 ]+', ' ', x))\n",
    "test_df[\"text\"] = test_df.text.apply(lambda x: re.sub('[^A-Za-z0-9 ]+', ' ', x))"
   ]
  },
  {
   "cell_type": "code",
   "execution_count": 638,
   "id": "25373489",
   "metadata": {},
   "outputs": [],
   "source": [
    "vectorizer = CountVectorizer()\n",
    "\n",
    "x_train = vectorizer.fit_transform(train_df['text'])\n",
    "x_test = vectorizer.transform(test_df['text'])\n",
    "y_train = train_df['type']\n",
    "y_test = test_df['type']"
   ]
  },
  {
   "cell_type": "code",
   "execution_count": 639,
   "id": "c6a2714e",
   "metadata": {
    "scrolled": true
   },
   "outputs": [
    {
     "name": "stdout",
     "output_type": "stream",
     "text": [
      "['00' '000' '00011' ... 'zzgi8xvk7t' 'zzvfsrhewg' 'zzz']\n",
      "30404\n"
     ]
    }
   ],
   "source": [
    "feature_names = vectorizer.get_feature_names_out()\n",
    "print(feature_names)\n",
    "print(len(feature_names))"
   ]
  },
  {
   "cell_type": "markdown",
   "id": "22dcabb1",
   "metadata": {},
   "source": [
    "## Logistic Regression\n",
    "It's worth to point out that contrary to the previous assignment this time we deal with a problem of classifying more than a two classes (multinomial logistic regression). Fortunately if we take a look at sklearn documentation we can see:\n",
    "\n",
    "LogisticRegression(penalty='l2', *, dual=False, tol=0.0001, C=1.0, fit_intercept=True, intercept_scaling=1, class_weight=None, random_state=None, solver='lbfgs', max_iter=100, multi_class='auto', verbose=0, warm_start=False, n_jobs=None, l1_ratio=None)\n",
    "\n",
    "There is an argument called 'multi_class' which is 'auto' by default. If the data is binary classification it does binary classification, and if the data is multi classification, it does multi classification."
   ]
  },
  {
   "cell_type": "markdown",
   "id": "936bdb26",
   "metadata": {},
   "source": [
    "### First Model (default)\n",
    "To see what needs an improvement I decied to go first with a default model. To my suprise it scored 0.955 accuracy which is a little unusual."
   ]
  },
  {
   "cell_type": "code",
   "execution_count": 640,
   "id": "8ec53140",
   "metadata": {
    "scrolled": true
   },
   "outputs": [
    {
     "name": "stderr",
     "output_type": "stream",
     "text": [
      "C:\\Users\\maury\\anaconda3\\Lib\\site-packages\\sklearn\\linear_model\\_logistic.py:460: ConvergenceWarning: lbfgs failed to converge (status=1):\n",
      "STOP: TOTAL NO. of ITERATIONS REACHED LIMIT.\n",
      "\n",
      "Increase the number of iterations (max_iter) or scale the data as shown in:\n",
      "    https://scikit-learn.org/stable/modules/preprocessing.html\n",
      "Please also refer to the documentation for alternative solver options:\n",
      "    https://scikit-learn.org/stable/modules/linear_model.html#logistic-regression\n",
      "  n_iter_i = _check_optimize_result(\n"
     ]
    },
    {
     "data": {
      "text/html": [
       "<style>#sk-container-id-28 {color: black;}#sk-container-id-28 pre{padding: 0;}#sk-container-id-28 div.sk-toggleable {background-color: white;}#sk-container-id-28 label.sk-toggleable__label {cursor: pointer;display: block;width: 100%;margin-bottom: 0;padding: 0.3em;box-sizing: border-box;text-align: center;}#sk-container-id-28 label.sk-toggleable__label-arrow:before {content: \"▸\";float: left;margin-right: 0.25em;color: #696969;}#sk-container-id-28 label.sk-toggleable__label-arrow:hover:before {color: black;}#sk-container-id-28 div.sk-estimator:hover label.sk-toggleable__label-arrow:before {color: black;}#sk-container-id-28 div.sk-toggleable__content {max-height: 0;max-width: 0;overflow: hidden;text-align: left;background-color: #f0f8ff;}#sk-container-id-28 div.sk-toggleable__content pre {margin: 0.2em;color: black;border-radius: 0.25em;background-color: #f0f8ff;}#sk-container-id-28 input.sk-toggleable__control:checked~div.sk-toggleable__content {max-height: 200px;max-width: 100%;overflow: auto;}#sk-container-id-28 input.sk-toggleable__control:checked~label.sk-toggleable__label-arrow:before {content: \"▾\";}#sk-container-id-28 div.sk-estimator input.sk-toggleable__control:checked~label.sk-toggleable__label {background-color: #d4ebff;}#sk-container-id-28 div.sk-label input.sk-toggleable__control:checked~label.sk-toggleable__label {background-color: #d4ebff;}#sk-container-id-28 input.sk-hidden--visually {border: 0;clip: rect(1px 1px 1px 1px);clip: rect(1px, 1px, 1px, 1px);height: 1px;margin: -1px;overflow: hidden;padding: 0;position: absolute;width: 1px;}#sk-container-id-28 div.sk-estimator {font-family: monospace;background-color: #f0f8ff;border: 1px dotted black;border-radius: 0.25em;box-sizing: border-box;margin-bottom: 0.5em;}#sk-container-id-28 div.sk-estimator:hover {background-color: #d4ebff;}#sk-container-id-28 div.sk-parallel-item::after {content: \"\";width: 100%;border-bottom: 1px solid gray;flex-grow: 1;}#sk-container-id-28 div.sk-label:hover label.sk-toggleable__label {background-color: #d4ebff;}#sk-container-id-28 div.sk-serial::before {content: \"\";position: absolute;border-left: 1px solid gray;box-sizing: border-box;top: 0;bottom: 0;left: 50%;z-index: 0;}#sk-container-id-28 div.sk-serial {display: flex;flex-direction: column;align-items: center;background-color: white;padding-right: 0.2em;padding-left: 0.2em;position: relative;}#sk-container-id-28 div.sk-item {position: relative;z-index: 1;}#sk-container-id-28 div.sk-parallel {display: flex;align-items: stretch;justify-content: center;background-color: white;position: relative;}#sk-container-id-28 div.sk-item::before, #sk-container-id-28 div.sk-parallel-item::before {content: \"\";position: absolute;border-left: 1px solid gray;box-sizing: border-box;top: 0;bottom: 0;left: 50%;z-index: -1;}#sk-container-id-28 div.sk-parallel-item {display: flex;flex-direction: column;z-index: 1;position: relative;background-color: white;}#sk-container-id-28 div.sk-parallel-item:first-child::after {align-self: flex-end;width: 50%;}#sk-container-id-28 div.sk-parallel-item:last-child::after {align-self: flex-start;width: 50%;}#sk-container-id-28 div.sk-parallel-item:only-child::after {width: 0;}#sk-container-id-28 div.sk-dashed-wrapped {border: 1px dashed gray;margin: 0 0.4em 0.5em 0.4em;box-sizing: border-box;padding-bottom: 0.4em;background-color: white;}#sk-container-id-28 div.sk-label label {font-family: monospace;font-weight: bold;display: inline-block;line-height: 1.2em;}#sk-container-id-28 div.sk-label-container {text-align: center;}#sk-container-id-28 div.sk-container {/* jupyter's `normalize.less` sets `[hidden] { display: none; }` but bootstrap.min.css set `[hidden] { display: none !important; }` so we also need the `!important` here to be able to override the default hidden behavior on the sphinx rendered scikit-learn.org. See: https://github.com/scikit-learn/scikit-learn/issues/21755 */display: inline-block !important;position: relative;}#sk-container-id-28 div.sk-text-repr-fallback {display: none;}</style><div id=\"sk-container-id-28\" class=\"sk-top-container\"><div class=\"sk-text-repr-fallback\"><pre>LogisticRegression(max_iter=200)</pre><b>In a Jupyter environment, please rerun this cell to show the HTML representation or trust the notebook. <br />On GitHub, the HTML representation is unable to render, please try loading this page with nbviewer.org.</b></div><div class=\"sk-container\" hidden><div class=\"sk-item\"><div class=\"sk-estimator sk-toggleable\"><input class=\"sk-toggleable__control sk-hidden--visually\" id=\"sk-estimator-id-28\" type=\"checkbox\" checked><label for=\"sk-estimator-id-28\" class=\"sk-toggleable__label sk-toggleable__label-arrow\">LogisticRegression</label><div class=\"sk-toggleable__content\"><pre>LogisticRegression(max_iter=200)</pre></div></div></div></div></div>"
      ],
      "text/plain": [
       "LogisticRegression(max_iter=200)"
      ]
     },
     "execution_count": 640,
     "metadata": {},
     "output_type": "execute_result"
    }
   ],
   "source": [
    "model = LogisticRegression(max_iter=200)\n",
    "model.fit(x_train, y_train)"
   ]
  },
  {
   "cell_type": "code",
   "execution_count": 641,
   "id": "152ef3a5",
   "metadata": {},
   "outputs": [
    {
     "name": "stdout",
     "output_type": "stream",
     "text": [
      "Accuracy of predictions:  0.955\n"
     ]
    }
   ],
   "source": [
    "from sklearn.metrics import classification_report, confusion_matrix, ConfusionMatrixDisplay\n",
    "\n",
    "predictions = model.predict(x_test)\n",
    "print(\"Accuracy of predictions: \", accuracy_score(y_test, predictions))"
   ]
  },
  {
   "cell_type": "markdown",
   "id": "9adf44eb",
   "metadata": {},
   "source": [
    "As it comes to classification there are other useful metrics besides accuracy. \n",
    "- **Precision**: percentage of correct positive predictions relative to total positive predictions.\n",
    "- **Recall**: percentage of correct positive predictions relative to total actual positives.\n",
    "- **F1 Score**: a weighted harmonic mean of precision and recall. The closer to 1, the better the model.\n",
    "\n",
    "In classification_report **support** tell us how many observations belonged to each class in the test dataset. **Macro avg** is the average of precision, recall, and F1-score across all classes and **weighted avg** is the weighted average of precision, recall, and F1-score, considering the number of instances for each class."
   ]
  },
  {
   "cell_type": "code",
   "execution_count": 642,
   "id": "9b1ae0cc",
   "metadata": {
    "scrolled": false
   },
   "outputs": [
    {
     "name": "stdout",
     "output_type": "stream",
     "text": [
      "              precision    recall  f1-score   support\n",
      "\n",
      "  Irrelevant       0.95      0.94      0.95       172\n",
      "    Negative       0.96      0.96      0.96       266\n",
      "     Neutral       0.97      0.95      0.96       285\n",
      "    Positive       0.94      0.96      0.95       277\n",
      "\n",
      "    accuracy                           0.95      1000\n",
      "   macro avg       0.95      0.95      0.95      1000\n",
      "weighted avg       0.96      0.95      0.96      1000\n",
      "\n"
     ]
    }
   ],
   "source": [
    "print(classification_report(y_test, predictions))"
   ]
  },
  {
   "cell_type": "markdown",
   "id": "00f863a0",
   "metadata": {},
   "source": [
    "### Second Model (data split)\n",
    "I decided to split training dataset into training and test sets to check how the same default model would perform with less training data and on different test cases. This time the accuracy of predictions was equal to about 0.846892, but again, when I checked how second model deals with previous test data it preformed very well scoring 0.949 in accuracy."
   ]
  },
  {
   "cell_type": "code",
   "execution_count": 643,
   "id": "f15090b8",
   "metadata": {},
   "outputs": [],
   "source": [
    "train2_df, test2_df = train_test_split(train_df, test_size=0.2, random_state=0)"
   ]
  },
  {
   "cell_type": "code",
   "execution_count": 644,
   "id": "9f7f3727",
   "metadata": {},
   "outputs": [
    {
     "name": "stdout",
     "output_type": "stream",
     "text": [
      "['00' '000' '00011' ... 'zzgi8xvk7t' 'zzvfsrhewg' 'zzz']\n",
      "30404\n"
     ]
    }
   ],
   "source": [
    "x_train2 = vectorizer.transform(train2_df['text'])\n",
    "x_test2 = vectorizer.transform(test2_df['text'])\n",
    "y_train2 = train2_df['type']\n",
    "y_test2 = test2_df['type']\n",
    "\n",
    "feature_names = vectorizer.get_feature_names_out()\n",
    "print(feature_names)\n",
    "print(len(feature_names))"
   ]
  },
  {
   "cell_type": "code",
   "execution_count": 645,
   "id": "295ecef1",
   "metadata": {},
   "outputs": [
    {
     "name": "stderr",
     "output_type": "stream",
     "text": [
      "C:\\Users\\maury\\anaconda3\\Lib\\site-packages\\sklearn\\linear_model\\_logistic.py:460: ConvergenceWarning: lbfgs failed to converge (status=1):\n",
      "STOP: TOTAL NO. of ITERATIONS REACHED LIMIT.\n",
      "\n",
      "Increase the number of iterations (max_iter) or scale the data as shown in:\n",
      "    https://scikit-learn.org/stable/modules/preprocessing.html\n",
      "Please also refer to the documentation for alternative solver options:\n",
      "    https://scikit-learn.org/stable/modules/linear_model.html#logistic-regression\n",
      "  n_iter_i = _check_optimize_result(\n"
     ]
    },
    {
     "data": {
      "text/html": [
       "<style>#sk-container-id-29 {color: black;}#sk-container-id-29 pre{padding: 0;}#sk-container-id-29 div.sk-toggleable {background-color: white;}#sk-container-id-29 label.sk-toggleable__label {cursor: pointer;display: block;width: 100%;margin-bottom: 0;padding: 0.3em;box-sizing: border-box;text-align: center;}#sk-container-id-29 label.sk-toggleable__label-arrow:before {content: \"▸\";float: left;margin-right: 0.25em;color: #696969;}#sk-container-id-29 label.sk-toggleable__label-arrow:hover:before {color: black;}#sk-container-id-29 div.sk-estimator:hover label.sk-toggleable__label-arrow:before {color: black;}#sk-container-id-29 div.sk-toggleable__content {max-height: 0;max-width: 0;overflow: hidden;text-align: left;background-color: #f0f8ff;}#sk-container-id-29 div.sk-toggleable__content pre {margin: 0.2em;color: black;border-radius: 0.25em;background-color: #f0f8ff;}#sk-container-id-29 input.sk-toggleable__control:checked~div.sk-toggleable__content {max-height: 200px;max-width: 100%;overflow: auto;}#sk-container-id-29 input.sk-toggleable__control:checked~label.sk-toggleable__label-arrow:before {content: \"▾\";}#sk-container-id-29 div.sk-estimator input.sk-toggleable__control:checked~label.sk-toggleable__label {background-color: #d4ebff;}#sk-container-id-29 div.sk-label input.sk-toggleable__control:checked~label.sk-toggleable__label {background-color: #d4ebff;}#sk-container-id-29 input.sk-hidden--visually {border: 0;clip: rect(1px 1px 1px 1px);clip: rect(1px, 1px, 1px, 1px);height: 1px;margin: -1px;overflow: hidden;padding: 0;position: absolute;width: 1px;}#sk-container-id-29 div.sk-estimator {font-family: monospace;background-color: #f0f8ff;border: 1px dotted black;border-radius: 0.25em;box-sizing: border-box;margin-bottom: 0.5em;}#sk-container-id-29 div.sk-estimator:hover {background-color: #d4ebff;}#sk-container-id-29 div.sk-parallel-item::after {content: \"\";width: 100%;border-bottom: 1px solid gray;flex-grow: 1;}#sk-container-id-29 div.sk-label:hover label.sk-toggleable__label {background-color: #d4ebff;}#sk-container-id-29 div.sk-serial::before {content: \"\";position: absolute;border-left: 1px solid gray;box-sizing: border-box;top: 0;bottom: 0;left: 50%;z-index: 0;}#sk-container-id-29 div.sk-serial {display: flex;flex-direction: column;align-items: center;background-color: white;padding-right: 0.2em;padding-left: 0.2em;position: relative;}#sk-container-id-29 div.sk-item {position: relative;z-index: 1;}#sk-container-id-29 div.sk-parallel {display: flex;align-items: stretch;justify-content: center;background-color: white;position: relative;}#sk-container-id-29 div.sk-item::before, #sk-container-id-29 div.sk-parallel-item::before {content: \"\";position: absolute;border-left: 1px solid gray;box-sizing: border-box;top: 0;bottom: 0;left: 50%;z-index: -1;}#sk-container-id-29 div.sk-parallel-item {display: flex;flex-direction: column;z-index: 1;position: relative;background-color: white;}#sk-container-id-29 div.sk-parallel-item:first-child::after {align-self: flex-end;width: 50%;}#sk-container-id-29 div.sk-parallel-item:last-child::after {align-self: flex-start;width: 50%;}#sk-container-id-29 div.sk-parallel-item:only-child::after {width: 0;}#sk-container-id-29 div.sk-dashed-wrapped {border: 1px dashed gray;margin: 0 0.4em 0.5em 0.4em;box-sizing: border-box;padding-bottom: 0.4em;background-color: white;}#sk-container-id-29 div.sk-label label {font-family: monospace;font-weight: bold;display: inline-block;line-height: 1.2em;}#sk-container-id-29 div.sk-label-container {text-align: center;}#sk-container-id-29 div.sk-container {/* jupyter's `normalize.less` sets `[hidden] { display: none; }` but bootstrap.min.css set `[hidden] { display: none !important; }` so we also need the `!important` here to be able to override the default hidden behavior on the sphinx rendered scikit-learn.org. See: https://github.com/scikit-learn/scikit-learn/issues/21755 */display: inline-block !important;position: relative;}#sk-container-id-29 div.sk-text-repr-fallback {display: none;}</style><div id=\"sk-container-id-29\" class=\"sk-top-container\"><div class=\"sk-text-repr-fallback\"><pre>LogisticRegression(max_iter=200)</pre><b>In a Jupyter environment, please rerun this cell to show the HTML representation or trust the notebook. <br />On GitHub, the HTML representation is unable to render, please try loading this page with nbviewer.org.</b></div><div class=\"sk-container\" hidden><div class=\"sk-item\"><div class=\"sk-estimator sk-toggleable\"><input class=\"sk-toggleable__control sk-hidden--visually\" id=\"sk-estimator-id-29\" type=\"checkbox\" checked><label for=\"sk-estimator-id-29\" class=\"sk-toggleable__label sk-toggleable__label-arrow\">LogisticRegression</label><div class=\"sk-toggleable__content\"><pre>LogisticRegression(max_iter=200)</pre></div></div></div></div></div>"
      ],
      "text/plain": [
       "LogisticRegression(max_iter=200)"
      ]
     },
     "execution_count": 645,
     "metadata": {},
     "output_type": "execute_result"
    }
   ],
   "source": [
    "model2 = LogisticRegression(max_iter=200)\n",
    "model2.fit(x_train2, y_train2)"
   ]
  },
  {
   "cell_type": "code",
   "execution_count": 646,
   "id": "79645b16",
   "metadata": {},
   "outputs": [
    {
     "name": "stdout",
     "output_type": "stream",
     "text": [
      "Accuracy of predictions:  0.8468918918918918\n"
     ]
    }
   ],
   "source": [
    "predictions = model2.predict(x_test2)\n",
    "print(\"Accuracy of predictions: \", accuracy_score(y_test2, predictions))"
   ]
  },
  {
   "cell_type": "code",
   "execution_count": 647,
   "id": "087f3bf0",
   "metadata": {
    "scrolled": true
   },
   "outputs": [
    {
     "name": "stdout",
     "output_type": "stream",
     "text": [
      "              precision    recall  f1-score   support\n",
      "\n",
      "  Irrelevant       0.88      0.79      0.83      2541\n",
      "    Negative       0.86      0.88      0.87      4445\n",
      "     Neutral       0.87      0.81      0.84      3607\n",
      "    Positive       0.80      0.87      0.84      4207\n",
      "\n",
      "    accuracy                           0.85     14800\n",
      "   macro avg       0.85      0.84      0.85     14800\n",
      "weighted avg       0.85      0.85      0.85     14800\n",
      "\n"
     ]
    }
   ],
   "source": [
    "print(classification_report(y_test2, predictions))"
   ]
  },
  {
   "cell_type": "code",
   "execution_count": 648,
   "id": "a5c8302f",
   "metadata": {},
   "outputs": [
    {
     "name": "stdout",
     "output_type": "stream",
     "text": [
      "Accuracy of predictions:  0.949\n"
     ]
    }
   ],
   "source": [
    "predictions = model2.predict(x_test)\n",
    "print(\"Accuracy of predictions: \", accuracy_score(y_test, predictions))"
   ]
  },
  {
   "cell_type": "code",
   "execution_count": 649,
   "id": "ce6695ff",
   "metadata": {},
   "outputs": [
    {
     "name": "stdout",
     "output_type": "stream",
     "text": [
      "              precision    recall  f1-score   support\n",
      "\n",
      "  Irrelevant       0.95      0.94      0.94       172\n",
      "    Negative       0.96      0.95      0.96       266\n",
      "     Neutral       0.96      0.95      0.96       285\n",
      "    Positive       0.92      0.95      0.94       277\n",
      "\n",
      "    accuracy                           0.95      1000\n",
      "   macro avg       0.95      0.95      0.95      1000\n",
      "weighted avg       0.95      0.95      0.95      1000\n",
      "\n"
     ]
    }
   ],
   "source": [
    "print(classification_report(y_test, predictions))"
   ]
  },
  {
   "cell_type": "markdown",
   "id": "adcde8ea",
   "metadata": {},
   "source": [
    "## Tuning\n",
    "To find better parameters I decided to use randomized search with k- fold cross-validation. K-fold cross-validation involves splitting the dataset into k equally sized folds. The model is trained k times, with each fold serving as the validation set once and the remaining folds as the training set. Randomized search explores random combinations of parameters within specified distributions or ranges. When we run randomized search it chooses parameters based on the best average cross-validation score. Although it's faster than GridSearch it still took quite a long time to compute. The improvement was slight: accuracy = 0.962 compared to previous (1st model) accuracy = 0.955"
   ]
  },
  {
   "cell_type": "code",
   "execution_count": 661,
   "id": "4a31ef29",
   "metadata": {},
   "outputs": [],
   "source": [
    "from scipy.stats import uniform, randint\n",
    "\n",
    "params = {\n",
    "    'penalty': ['none', 'l1', 'l2', 'elasticnet'],\n",
    "    'C': uniform(0.1, 10),\n",
    "    'solver': ['newton-cg', 'lbfgs', 'liblinear', 'saga'],\n",
    "    'l1_ratio': uniform(0, 1.0)\n",
    "    }"
   ]
  },
  {
   "cell_type": "code",
   "execution_count": 662,
   "id": "e6bfdaf8",
   "metadata": {
    "scrolled": false
   },
   "outputs": [
    {
     "name": "stdout",
     "output_type": "stream",
     "text": [
      "Fitting 3 folds for each of 10 candidates, totalling 30 fits\n"
     ]
    },
    {
     "name": "stderr",
     "output_type": "stream",
     "text": [
      "C:\\Users\\maury\\anaconda3\\Lib\\site-packages\\sklearn\\model_selection\\_validation.py:425: FitFailedWarning: \n",
      "12 fits failed out of a total of 30.\n",
      "The score on these train-test partitions for these parameters will be set to nan.\n",
      "If these failures are not expected, you can try to debug them by setting error_score='raise'.\n",
      "\n",
      "Below are more details about the failures:\n",
      "--------------------------------------------------------------------------------\n",
      "3 fits failed with the following error:\n",
      "Traceback (most recent call last):\n",
      "  File \"C:\\Users\\maury\\anaconda3\\Lib\\site-packages\\sklearn\\model_selection\\_validation.py\", line 732, in _fit_and_score\n",
      "    estimator.fit(X_train, y_train, **fit_params)\n",
      "  File \"C:\\Users\\maury\\anaconda3\\Lib\\site-packages\\sklearn\\base.py\", line 1151, in wrapper\n",
      "    return fit_method(estimator, *args, **kwargs)\n",
      "           ^^^^^^^^^^^^^^^^^^^^^^^^^^^^^^^^^^^^^^\n",
      "  File \"C:\\Users\\maury\\anaconda3\\Lib\\site-packages\\sklearn\\linear_model\\_logistic.py\", line 1168, in fit\n",
      "    solver = _check_solver(self.solver, self.penalty, self.dual)\n",
      "             ^^^^^^^^^^^^^^^^^^^^^^^^^^^^^^^^^^^^^^^^^^^^^^^^^^^\n",
      "  File \"C:\\Users\\maury\\anaconda3\\Lib\\site-packages\\sklearn\\linear_model\\_logistic.py\", line 56, in _check_solver\n",
      "    raise ValueError(\n",
      "ValueError: Solver lbfgs supports only 'l2' or 'none' penalties, got elasticnet penalty.\n",
      "\n",
      "--------------------------------------------------------------------------------\n",
      "6 fits failed with the following error:\n",
      "Traceback (most recent call last):\n",
      "  File \"C:\\Users\\maury\\anaconda3\\Lib\\site-packages\\sklearn\\model_selection\\_validation.py\", line 732, in _fit_and_score\n",
      "    estimator.fit(X_train, y_train, **fit_params)\n",
      "  File \"C:\\Users\\maury\\anaconda3\\Lib\\site-packages\\sklearn\\base.py\", line 1151, in wrapper\n",
      "    return fit_method(estimator, *args, **kwargs)\n",
      "           ^^^^^^^^^^^^^^^^^^^^^^^^^^^^^^^^^^^^^^\n",
      "  File \"C:\\Users\\maury\\anaconda3\\Lib\\site-packages\\sklearn\\linear_model\\_logistic.py\", line 1168, in fit\n",
      "    solver = _check_solver(self.solver, self.penalty, self.dual)\n",
      "             ^^^^^^^^^^^^^^^^^^^^^^^^^^^^^^^^^^^^^^^^^^^^^^^^^^^\n",
      "  File \"C:\\Users\\maury\\anaconda3\\Lib\\site-packages\\sklearn\\linear_model\\_logistic.py\", line 56, in _check_solver\n",
      "    raise ValueError(\n",
      "ValueError: Solver lbfgs supports only 'l2' or 'none' penalties, got l1 penalty.\n",
      "\n",
      "--------------------------------------------------------------------------------\n",
      "3 fits failed with the following error:\n",
      "Traceback (most recent call last):\n",
      "  File \"C:\\Users\\maury\\anaconda3\\Lib\\site-packages\\sklearn\\model_selection\\_validation.py\", line 732, in _fit_and_score\n",
      "    estimator.fit(X_train, y_train, **fit_params)\n",
      "  File \"C:\\Users\\maury\\anaconda3\\Lib\\site-packages\\sklearn\\base.py\", line 1151, in wrapper\n",
      "    return fit_method(estimator, *args, **kwargs)\n",
      "           ^^^^^^^^^^^^^^^^^^^^^^^^^^^^^^^^^^^^^^\n",
      "  File \"C:\\Users\\maury\\anaconda3\\Lib\\site-packages\\sklearn\\linear_model\\_logistic.py\", line 1168, in fit\n",
      "    solver = _check_solver(self.solver, self.penalty, self.dual)\n",
      "             ^^^^^^^^^^^^^^^^^^^^^^^^^^^^^^^^^^^^^^^^^^^^^^^^^^^\n",
      "  File \"C:\\Users\\maury\\anaconda3\\Lib\\site-packages\\sklearn\\linear_model\\_logistic.py\", line 56, in _check_solver\n",
      "    raise ValueError(\n",
      "ValueError: Solver newton-cg supports only 'l2' or 'none' penalties, got l1 penalty.\n",
      "\n",
      "  warnings.warn(some_fits_failed_message, FitFailedWarning)\n",
      "C:\\Users\\maury\\anaconda3\\Lib\\site-packages\\sklearn\\model_selection\\_search.py:976: UserWarning: One or more of the test scores are non-finite: [       nan 0.81834152 0.82115247 0.84965406 0.84192389        nan\n",
      "        nan 0.82154441 0.76098711        nan]\n",
      "  warnings.warn(\n",
      "C:\\Users\\maury\\anaconda3\\Lib\\site-packages\\sklearn\\model_selection\\_search.py:976: UserWarning: One or more of the train scores are non-finite: [       nan 0.91417107 0.90836669 0.947585   0.92984756        nan\n",
      "        nan 0.91418457 0.97080248        nan]\n",
      "  warnings.warn(\n",
      "C:\\Users\\maury\\anaconda3\\Lib\\site-packages\\sklearn\\linear_model\\_logistic.py:1171: UserWarning: l1_ratio parameter is only used when penalty is 'elasticnet'. Got (penalty=l2)\n",
      "  warnings.warn(\n"
     ]
    },
    {
     "name": "stdout",
     "output_type": "stream",
     "text": [
      "Best params {'C': 5.488167340033569, 'l1_ratio': 0.4191945144032948, 'penalty': 'l2', 'solver': 'newton-cg'}\n"
     ]
    }
   ],
   "source": [
    "from sklearn.model_selection import RandomizedSearchCV\n",
    "from sklearn.model_selection import train_test_split, KFold\n",
    "\n",
    "model3 = LogisticRegression()\n",
    "\n",
    "kf = KFold(n_splits=3, random_state=0, shuffle=True)\n",
    "\n",
    "cv = RandomizedSearchCV(model3,\n",
    "                    params,\n",
    "                    cv=kf,\n",
    "                    return_train_score=True,\n",
    "                    n_jobs=-1,\n",
    "                    verbose=2,\n",
    "                    random_state=1\n",
    "                    )\n",
    "\n",
    "cv.fit(x_train, y_train)\n",
    "\n",
    "print('Best params', cv.best_params_)"
   ]
  },
  {
   "cell_type": "code",
   "execution_count": 666,
   "id": "5969d489",
   "metadata": {},
   "outputs": [
    {
     "name": "stdout",
     "output_type": "stream",
     "text": [
      "Accuracy of predictions:  0.962\n"
     ]
    }
   ],
   "source": [
    "predictions = cv.predict(x_test)\n",
    "print(\"Accuracy of predictions: \", accuracy_score(y_test, predictions))"
   ]
  },
  {
   "cell_type": "code",
   "execution_count": 667,
   "id": "2299d027",
   "metadata": {},
   "outputs": [
    {
     "name": "stdout",
     "output_type": "stream",
     "text": [
      "              precision    recall  f1-score   support\n",
      "\n",
      "  Irrelevant       0.98      0.95      0.96       172\n",
      "    Negative       0.96      0.97      0.96       266\n",
      "     Neutral       0.97      0.96      0.97       285\n",
      "    Positive       0.95      0.96      0.96       277\n",
      "\n",
      "    accuracy                           0.96      1000\n",
      "   macro avg       0.96      0.96      0.96      1000\n",
      "weighted avg       0.96      0.96      0.96      1000\n",
      "\n"
     ]
    }
   ],
   "source": [
    "print(classification_report(y_test, cv.predict(x_test)))"
   ]
  }
 ],
 "metadata": {
  "kernelspec": {
   "display_name": "Python 3 (ipykernel)",
   "language": "python",
   "name": "python3"
  },
  "language_info": {
   "codemirror_mode": {
    "name": "ipython",
    "version": 3
   },
   "file_extension": ".py",
   "mimetype": "text/x-python",
   "name": "python",
   "nbconvert_exporter": "python",
   "pygments_lexer": "ipython3",
   "version": "3.11.5"
  }
 },
 "nbformat": 4,
 "nbformat_minor": 5
}
